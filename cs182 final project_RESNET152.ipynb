{
 "cells": [
  {
   "cell_type": "code",
   "execution_count": 1,
   "metadata": {},
   "outputs": [],
   "source": [
    "import numpy as np\n",
    "from PIL import Image\n",
    "import os\n",
    "import cv2\n",
    "import torch \n",
    "import torch.nn as nn \n",
    "from torch.utils.data import DataLoader, Dataset\n",
    "from torchvision import datasets, models, transforms\n",
    "from tqdm import tqdm\n",
    "import regex as re \n",
    "import pandas as pd\n",
    "import matplotlib.pyplot as plt\n",
    "import os\n"
   ]
  },
  {
   "cell_type": "code",
   "execution_count": 2,
   "metadata": {},
   "outputs": [],
   "source": [
    "# run this cell if running the notebook for the first time. \n",
    "def sort_fn(x):\n",
    "    num1 = re.findall(r\"image([\\d]+)\", x)\n",
    "    return int(num1[0])\n",
    "\n",
    "# Sort read in image filenames. \n",
    "image_dir = \"./images/\"\n",
    "image_filenames = os.listdir(os.path.join(os.getcwd(), \"images\"))\n",
    "image_filenames.sort(key= sort_fn)\n",
    "\n",
    "# Fetch complete image dir. \n",
    "image_filenames = [os.path.join(image_dir, i) for i in image_filenames]\n",
    "len(image_filenames)\n",
    "\n",
    "labels = [1, 1, 1, 0, 1, 0, 0, 1, 0, 1, 0, 1, 0, 1, 0, 1, 0, 1, 1, 1, 1, 1, 1, 0, 0, 0, 0, 1, 0, 0, 1, 1, 0, 0, 0, 1, 1, 1, 0, 1, 1, 1, 1, 1, 0, 0, 0, 1, 1, 1, 0, 1, 0, 1, 0, 1, 0, 0, 0, 1, 0, 1, 0, 0, 1, 1, 1, 1, 1, 0, 0, 1, 1, 1, 1, 1, 1, 1, 1, 1, 0, 1, 1, 1, 1, 1, 1, 0, 0, 1, 1, 1, 0, 0, 0, 1, 1 ,1,1,1,0, 1, 0, 0, 0 ,1,0,1, 0, 0, 1, 0, 0, 1, 1,0, 1, 0,0,1, 1, 1, 1, 1, 1, 1,1,1,1,1,0,1,1,1,1,1,1,1,1,1,1,0,0,1,1,1,1,1,1,1,1,1,1,0,1,1,1,0,0,0,0,1,1,0,0,0,1,0,1,0,1,0,1,1,0,1,1,0,0,1,1,1,1,1,0,0,1,1,0,1,1,1,1,0,0,0,1,1,0,1]\n",
    "pd.DataFrame({\"image\":image_filenames, \"label\":labels}).to_csv(\"train_data.csv\", index=False)"
   ]
  },
  {
   "cell_type": "code",
   "execution_count": 2,
   "metadata": {},
   "outputs": [
    {
     "name": "stdout",
     "output_type": "stream",
     "text": [
      "cuda\n"
     ]
    }
   ],
   "source": [
    "device = torch.device(\"cuda\") if torch.cuda.is_available() else torch.device(\"cpu\")\n",
    "print(device)"
   ]
  },
  {
   "cell_type": "code",
   "execution_count": 7,
   "metadata": {},
   "outputs": [],
   "source": [
    "class image_Dataset(Dataset):\n",
    "    # Set output = False if doesn't want the print. \n",
    "    def __init__(self, image_filenames, labels):\n",
    "        super().__init__()\n",
    "        self.image_filenames = image_filenames\n",
    "        self.labels = labels\n",
    "        # Read all images into numpy array. \n",
    "        images = []\n",
    "        for i in self.image_filenames:\n",
    "            images.append(cv2.imread(i))\n",
    "        assert len(images) == len(self.image_filenames)\n",
    "        assert len(images) == len(labels)\n",
    "        # Convert to tensor and transpose. \n",
    "        self.images = torch.tensor(np.array(images)).transpose(1, -1)\n",
    "\n",
    "        print(\"The shape of all images: \", self.images.shape)\n",
    "\n",
    "    def __getitem__(self, i):\n",
    "        return self.images[i], self.labels[i]\n",
    "\n",
    "    def __len__(self):\n",
    "        return len(self.image_filenames)"
   ]
  },
  {
   "cell_type": "code",
   "execution_count": 8,
   "metadata": {},
   "outputs": [],
   "source": [
    "# Read in the data. \n",
    "np.random.seed(888)\n",
    "df = pd.read_csv(\"train_data.csv\")\n",
    "temp = df.sample(frac=1)\n",
    "train_size = 264\n",
    "\n",
    "train_data = temp.iloc[0 : train_size]\n",
    "valid_data = temp.iloc[train_size: ]"
   ]
  },
  {
   "cell_type": "code",
   "execution_count": 9,
   "metadata": {},
   "outputs": [
    {
     "name": "stdout",
     "output_type": "stream",
     "text": [
      "The shape of all images:  torch.Size([264, 3, 500, 500])\n",
      "The shape of all images:  torch.Size([142, 3, 500, 500])\n"
     ]
    }
   ],
   "source": [
    "# Build the dataset. \n",
    "batch_size = 16\n",
    "\n",
    "train_dataset = image_Dataset(train_data[\"image\"].values.tolist(), train_data[\"label\"].values.tolist())\n",
    "validation_dataset = image_Dataset(valid_data[\"image\"].values.tolist(), valid_data[\"label\"].values.tolist())\n",
    "train_dataloader = DataLoader(train_dataset, batch_size=batch_size, shuffle=True)\n",
    "validation_dataloader = DataLoader(validation_dataset, batch_size=batch_size, shuffle=False)"
   ]
  },
  {
   "cell_type": "code",
   "execution_count": 10,
   "metadata": {},
   "outputs": [],
   "source": [
    "def load_checkpoint(model, optim, save_name, save_dir = \"model_ckpt\"):\n",
    "    save_path = os.path.join(save_dir, save_name)\n",
    "    assert os.path.exists(save_path), \"Path doesn't exist!\"\n",
    "    print(\"Loading checkpoint...\")\n",
    "    checkpoint = torch.load(save_path)\n",
    "    model.load_state_dict(checkpoint['model_state_dict'])\n",
    "    optim.load_state_dict(checkpoint['optim_state_dict'])\n",
    "    best_loss = checkpoint['loss']\n",
    "    print(\"Done!\")\n",
    "\n",
    "    return best_loss\n",
    "\n",
    "\n",
    "def train(model, optimizer, train_dataloader, validation_dataloader, criterion, num_epochs = 5, load_from_save =False, save_name = \"model0\", save_dir = \"model_ckpt\"):\n",
    "    \n",
    "    best_acc = 0.0\n",
    "    if load_from_save:\n",
    "        print(\"Loading the model...\")\n",
    "        best_acc = load_checkpoint(model, optimizer, save_name + \".tar\", save_dir)\n",
    "        print(\"Done!\")\n",
    "    losses = []\n",
    "    print(optimizer.param_groups[0][\"lr\"])\n",
    "    save_path = os.path.join(save_dir, save_name + \".tar\")\n",
    "    \n",
    "\n",
    "    for epoch in range(num_epochs):\n",
    "        model.train()\n",
    "        train_loss = 0.0\n",
    "        for _, (inputs, labels) in tqdm(enumerate(train_dataloader), total=len(train_dataloader)):\n",
    "            inputs = inputs.float().to(device)\n",
    "            labels = labels.to(device)\n",
    "            \n",
    "            optimizer.zero_grad()\n",
    "            pred = model(inputs)\n",
    "            loss = criterion(pred, labels)\n",
    "            loss.backward()\n",
    "            optimizer.step()\n",
    "            train_loss += loss.item()\n",
    "            losses.append(loss.item())\n",
    "            del inputs, labels, pred\n",
    "        \n",
    "        print(f\"Epoch {epoch} training loss: \", train_loss / len(train_dataloader))\n",
    "        valid_acc = evaluate(model, validation_dataloader=validation_dataloader, criterion=criterion)\n",
    "\n",
    "        if valid_acc > best_acc:\n",
    "            if not os.path.exists(save_dir):\n",
    "                os.mkdir(save_dir)\n",
    "            \n",
    "            best_acc = valid_acc\n",
    "            state_dict = {\n",
    "                'model_state_dict': model.state_dict(),\n",
    "                'optim_state_dict': optimizer.state_dict(),\n",
    "                'loss': best_acc\n",
    "            }\n",
    "            \n",
    "            torch.save(state_dict, save_path)\n",
    "            print(f\"Saved checkpoint to {save_path}\")\n",
    "\n",
    "        print(f\"Best valid accuracy: {best_acc}\")\n",
    "    return losses\n",
    "\n",
    "def evaluate(model, validation_dataloader, criterion,):\n",
    "    model.eval()\n",
    "    valid_loss = 0.0\n",
    "    with torch.no_grad():\n",
    "        correct = 0\n",
    "        for _, (inputs, labels) in tqdm(enumerate(validation_dataloader), total=len(validation_dataloader)):\n",
    "            inputs = inputs.float().to(device)\n",
    "            labels = labels.to(device)\n",
    "            pred = model(inputs)\n",
    "            pred_labels = pred.argmax(1)\n",
    "            correct += (pred_labels == labels).sum().item()\n",
    "            loss = criterion(pred, labels)\n",
    "            valid_loss += loss.item()\n",
    "    acc = correct / len(validation_dataloader) / batch_size\n",
    "    print(\"Validation loss: \", valid_loss / len(validation_dataloader))\n",
    "    print(\"Validation acc: \", acc)\n",
    "    return acc"
   ]
  },
  {
   "cell_type": "code",
   "execution_count": null,
   "metadata": {},
   "outputs": [],
   "source": [
    "# Load the model. \n",
    "lr = 1e-4\n",
    "num_epochs = 25\n",
    "model = models.resnet152(pretrained=True)\n",
    "num_ftrs = model.fc.in_features\n",
    "model.fc = nn.Linear(num_ftrs, 2)\n",
    "\n",
    "model = model.to(device)\n",
    "criterion = nn.CrossEntropyLoss()\n",
    "optimizer = torch.optim.Adam(model.parameters(), lr=lr)\n",
    "\n",
    "losses = train(model, optimizer=optimizer, train_dataloader=train_dataloader, validation_dataloader=validation_dataloader, criterion=criterion, num_epochs=num_epochs, save_name=\"model_large2\")\n",
    "\n",
    "plt.plot(losses)\n",
    "plt.show()"
   ]
  },
  {
   "cell_type": "code",
   "execution_count": 14,
   "metadata": {},
   "outputs": [
    {
     "name": "stdout",
     "output_type": "stream",
     "text": [
      "Loading checkpoint...\n",
      "Done!\n"
     ]
    },
    {
     "name": "stderr",
     "output_type": "stream",
     "text": [
      "100%|██████████| 4/4 [00:00<00:00,  7.49it/s]"
     ]
    },
    {
     "name": "stdout",
     "output_type": "stream",
     "text": [
      "Validation loss:  0.1884654127061367\n",
      "Validation acc:  0.75\n"
     ]
    },
    {
     "name": "stderr",
     "output_type": "stream",
     "text": [
      "\n"
     ]
    },
    {
     "data": {
      "text/plain": [
       "0.75"
      ]
     },
     "execution_count": 14,
     "metadata": {},
     "output_type": "execute_result"
    }
   ],
   "source": [
    "model = model.to(device)\n",
    "criterion = nn.CrossEntropyLoss()\n",
    "optimizer = torch.optim.Adam(model.parameters(), lr=lr)\n",
    "\n",
    "load_checkpoint(model, optimizer, \"model_large.tar\")\n",
    "evaluate(model, validation_dataloader=validation_dataloader, criterion=criterion)"
   ]
  },
  {
   "cell_type": "code",
   "execution_count": 26,
   "metadata": {},
   "outputs": [
    {
     "name": "stdout",
     "output_type": "stream",
     "text": [
      "Loading the model...\n",
      "Loading checkpoint...\n",
      "Done!\n",
      "Done!\n",
      "0.0001\n"
     ]
    },
    {
     "name": "stderr",
     "output_type": "stream",
     "text": [
      "100%|██████████| 19/19 [00:04<00:00,  3.82it/s]\n"
     ]
    },
    {
     "name": "stdout",
     "output_type": "stream",
     "text": [
      "Epoch 0 training loss:  0.05866755795125898\n"
     ]
    },
    {
     "name": "stderr",
     "output_type": "stream",
     "text": [
      "100%|██████████| 7/7 [00:00<00:00,  9.79it/s]\n"
     ]
    },
    {
     "name": "stdout",
     "output_type": "stream",
     "text": [
      "Validation loss:  0.43247773019330843\n",
      "Validation acc:  0.7678571428571429\n",
      "Best valid accuracy: 0.8035714285714286\n"
     ]
    },
    {
     "name": "stderr",
     "output_type": "stream",
     "text": [
      " 79%|███████▉  | 15/19 [00:04<00:01,  3.24it/s]\n"
     ]
    },
    {
     "ename": "KeyboardInterrupt",
     "evalue": "",
     "output_type": "error",
     "traceback": [
      "\u001b[0;31m---------------------------------------------------------------------------\u001b[0m",
      "\u001b[0;31mKeyboardInterrupt\u001b[0m                         Traceback (most recent call last)",
      "\u001b[1;32m/home/bohannnn/code/cv_test/code.ipynb Cell 9\u001b[0m in \u001b[0;36m<cell line: 5>\u001b[0;34m()\u001b[0m\n\u001b[1;32m      <a href='vscode-notebook-cell://ssh-remote%2Bvox.eecs.berkeley.edu/home/bohannnn/code/cv_test/code.ipynb#X22sdnNjb2RlLXJlbW90ZQ%3D%3D?line=2'>3</a>\u001b[0m criterion \u001b[39m=\u001b[39m nn\u001b[39m.\u001b[39mCrossEntropyLoss()\n\u001b[1;32m      <a href='vscode-notebook-cell://ssh-remote%2Bvox.eecs.berkeley.edu/home/bohannnn/code/cv_test/code.ipynb#X22sdnNjb2RlLXJlbW90ZQ%3D%3D?line=3'>4</a>\u001b[0m optimizer \u001b[39m=\u001b[39m torch\u001b[39m.\u001b[39moptim\u001b[39m.\u001b[39mAdam(model\u001b[39m.\u001b[39mparameters(), lr\u001b[39m=\u001b[39mlr)\n\u001b[0;32m----> <a href='vscode-notebook-cell://ssh-remote%2Bvox.eecs.berkeley.edu/home/bohannnn/code/cv_test/code.ipynb#X22sdnNjb2RlLXJlbW90ZQ%3D%3D?line=4'>5</a>\u001b[0m losses \u001b[39m=\u001b[39m train(model, optimizer\u001b[39m=\u001b[39;49moptimizer, train_dataloader\u001b[39m=\u001b[39;49mtrain_dataloader, validation_dataloader\u001b[39m=\u001b[39;49mvalidation_dataloader, \n\u001b[1;32m      <a href='vscode-notebook-cell://ssh-remote%2Bvox.eecs.berkeley.edu/home/bohannnn/code/cv_test/code.ipynb#X22sdnNjb2RlLXJlbW90ZQ%3D%3D?line=5'>6</a>\u001b[0m                 criterion\u001b[39m=\u001b[39;49mcriterion, num_epochs\u001b[39m=\u001b[39;49m\u001b[39m10\u001b[39;49m, save_name\u001b[39m=\u001b[39;49m\u001b[39m\"\u001b[39;49m\u001b[39mmodel_large\u001b[39;49m\u001b[39m\"\u001b[39;49m, load_from_save\u001b[39m=\u001b[39;49m\u001b[39mTrue\u001b[39;49;00m)\n\u001b[1;32m      <a href='vscode-notebook-cell://ssh-remote%2Bvox.eecs.berkeley.edu/home/bohannnn/code/cv_test/code.ipynb#X22sdnNjb2RlLXJlbW90ZQ%3D%3D?line=7'>8</a>\u001b[0m plt\u001b[39m.\u001b[39mplot(losses)\n\u001b[1;32m      <a href='vscode-notebook-cell://ssh-remote%2Bvox.eecs.berkeley.edu/home/bohannnn/code/cv_test/code.ipynb#X22sdnNjb2RlLXJlbW90ZQ%3D%3D?line=8'>9</a>\u001b[0m plt\u001b[39m.\u001b[39mshow()\n",
      "\u001b[1;32m/home/bohannnn/code/cv_test/code.ipynb Cell 9\u001b[0m in \u001b[0;36mtrain\u001b[0;34m(model, optimizer, train_dataloader, validation_dataloader, criterion, num_epochs, load_from_save, save_name, save_dir)\u001b[0m\n\u001b[1;32m     <a href='vscode-notebook-cell://ssh-remote%2Bvox.eecs.berkeley.edu/home/bohannnn/code/cv_test/code.ipynb#X22sdnNjb2RlLXJlbW90ZQ%3D%3D?line=33'>34</a>\u001b[0m pred \u001b[39m=\u001b[39m model(inputs)\n\u001b[1;32m     <a href='vscode-notebook-cell://ssh-remote%2Bvox.eecs.berkeley.edu/home/bohannnn/code/cv_test/code.ipynb#X22sdnNjb2RlLXJlbW90ZQ%3D%3D?line=34'>35</a>\u001b[0m loss \u001b[39m=\u001b[39m criterion(pred, labels)\n\u001b[0;32m---> <a href='vscode-notebook-cell://ssh-remote%2Bvox.eecs.berkeley.edu/home/bohannnn/code/cv_test/code.ipynb#X22sdnNjb2RlLXJlbW90ZQ%3D%3D?line=35'>36</a>\u001b[0m loss\u001b[39m.\u001b[39;49mbackward()\n\u001b[1;32m     <a href='vscode-notebook-cell://ssh-remote%2Bvox.eecs.berkeley.edu/home/bohannnn/code/cv_test/code.ipynb#X22sdnNjb2RlLXJlbW90ZQ%3D%3D?line=36'>37</a>\u001b[0m optimizer\u001b[39m.\u001b[39mstep()\n\u001b[1;32m     <a href='vscode-notebook-cell://ssh-remote%2Bvox.eecs.berkeley.edu/home/bohannnn/code/cv_test/code.ipynb#X22sdnNjb2RlLXJlbW90ZQ%3D%3D?line=37'>38</a>\u001b[0m train_loss \u001b[39m+\u001b[39m\u001b[39m=\u001b[39m loss\u001b[39m.\u001b[39mitem()\n",
      "File \u001b[0;32m~/miniconda3/envs/bohan/lib/python3.8/site-packages/torch/_tensor.py:396\u001b[0m, in \u001b[0;36mTensor.backward\u001b[0;34m(self, gradient, retain_graph, create_graph, inputs)\u001b[0m\n\u001b[1;32m    387\u001b[0m \u001b[39mif\u001b[39;00m has_torch_function_unary(\u001b[39mself\u001b[39m):\n\u001b[1;32m    388\u001b[0m     \u001b[39mreturn\u001b[39;00m handle_torch_function(\n\u001b[1;32m    389\u001b[0m         Tensor\u001b[39m.\u001b[39mbackward,\n\u001b[1;32m    390\u001b[0m         (\u001b[39mself\u001b[39m,),\n\u001b[0;32m   (...)\u001b[0m\n\u001b[1;32m    394\u001b[0m         create_graph\u001b[39m=\u001b[39mcreate_graph,\n\u001b[1;32m    395\u001b[0m         inputs\u001b[39m=\u001b[39minputs)\n\u001b[0;32m--> 396\u001b[0m torch\u001b[39m.\u001b[39;49mautograd\u001b[39m.\u001b[39;49mbackward(\u001b[39mself\u001b[39;49m, gradient, retain_graph, create_graph, inputs\u001b[39m=\u001b[39;49minputs)\n",
      "File \u001b[0;32m~/miniconda3/envs/bohan/lib/python3.8/site-packages/torch/autograd/__init__.py:173\u001b[0m, in \u001b[0;36mbackward\u001b[0;34m(tensors, grad_tensors, retain_graph, create_graph, grad_variables, inputs)\u001b[0m\n\u001b[1;32m    168\u001b[0m     retain_graph \u001b[39m=\u001b[39m create_graph\n\u001b[1;32m    170\u001b[0m \u001b[39m# The reason we repeat same the comment below is that\u001b[39;00m\n\u001b[1;32m    171\u001b[0m \u001b[39m# some Python versions print out the first line of a multi-line function\u001b[39;00m\n\u001b[1;32m    172\u001b[0m \u001b[39m# calls in the traceback and some print out the last line\u001b[39;00m\n\u001b[0;32m--> 173\u001b[0m Variable\u001b[39m.\u001b[39;49m_execution_engine\u001b[39m.\u001b[39;49mrun_backward(  \u001b[39m# Calls into the C++ engine to run the backward pass\u001b[39;49;00m\n\u001b[1;32m    174\u001b[0m     tensors, grad_tensors_, retain_graph, create_graph, inputs,\n\u001b[1;32m    175\u001b[0m     allow_unreachable\u001b[39m=\u001b[39;49m\u001b[39mTrue\u001b[39;49;00m, accumulate_grad\u001b[39m=\u001b[39;49m\u001b[39mTrue\u001b[39;49;00m)\n",
      "\u001b[0;31mKeyboardInterrupt\u001b[0m: "
     ]
    }
   ],
   "source": [
    "model = model.to(device)\n",
    "criterion = nn.CrossEntropyLoss()\n",
    "optimizer = torch.optim.Adam(model.parameters(), lr=lr)\n",
    "losses = train(model, optimizer=optimizer, train_dataloader=train_dataloader, validation_dataloader=validation_dataloader, \n",
    "                criterion=criterion, num_epochs=10, save_name=\"model_large\", load_from_save=True)\n",
    "\n",
    "plt.plot(losses)\n",
    "plt.show()"
   ]
  },
  {
   "cell_type": "code",
   "execution_count": 17,
   "metadata": {},
   "outputs": [],
   "source": [
    "# Load the model. \n",
    "lr = 1e-4\n",
    "num_epochs = 10\n",
    "model = models.resnet101(pretrained=True)\n",
    "num_ftrs = model.fc.in_features\n",
    "model.fc = nn.Linear(num_ftrs, 2)\n",
    "\n",
    "model = model.to(device)\n",
    "criterion = nn.CrossEntropyLoss()\n",
    "optimizer = torch.optim.Adam(model.parameters(), lr=lr)"
   ]
  },
  {
   "cell_type": "code",
   "execution_count": 18,
   "metadata": {},
   "outputs": [
    {
     "name": "stderr",
     "output_type": "stream",
     "text": [
      "100%|██████████| 19/19 [00:11<00:00,  1.63it/s]\n"
     ]
    },
    {
     "name": "stdout",
     "output_type": "stream",
     "text": [
      "Epoch 0 training loss:  0.646020476755343\n"
     ]
    },
    {
     "name": "stderr",
     "output_type": "stream",
     "text": [
      "100%|██████████| 7/7 [00:01<00:00,  5.83it/s]\n"
     ]
    },
    {
     "name": "stdout",
     "output_type": "stream",
     "text": [
      "Validation loss:  0.8629796504974365\n",
      "Validation acc:  0.5892857142857143\n",
      "Saved checkpoint to model_ckpt\\model0.tar\n",
      "Best valid accuracy: 0.5892857142857143\n"
     ]
    },
    {
     "name": "stderr",
     "output_type": "stream",
     "text": [
      "100%|██████████| 19/19 [00:11<00:00,  1.64it/s]\n"
     ]
    },
    {
     "name": "stdout",
     "output_type": "stream",
     "text": [
      "Epoch 1 training loss:  0.34912190154979106\n"
     ]
    },
    {
     "name": "stderr",
     "output_type": "stream",
     "text": [
      "100%|██████████| 7/7 [00:01<00:00,  6.80it/s]\n"
     ]
    },
    {
     "name": "stdout",
     "output_type": "stream",
     "text": [
      "Validation loss:  0.902770921587944\n",
      "Validation acc:  0.6607142857142857\n",
      "Saved checkpoint to model_ckpt\\model0.tar\n",
      "Best valid accuracy: 0.6607142857142857\n"
     ]
    },
    {
     "name": "stderr",
     "output_type": "stream",
     "text": [
      "100%|██████████| 19/19 [00:12<00:00,  1.54it/s]\n"
     ]
    },
    {
     "name": "stdout",
     "output_type": "stream",
     "text": [
      "Epoch 2 training loss:  0.2239503915372648\n"
     ]
    },
    {
     "name": "stderr",
     "output_type": "stream",
     "text": [
      "100%|██████████| 7/7 [00:01<00:00,  5.80it/s]\n"
     ]
    },
    {
     "name": "stdout",
     "output_type": "stream",
     "text": [
      "Validation loss:  0.6611863587583814\n",
      "Validation acc:  0.5714285714285714\n",
      "Best valid accuracy: 0.6607142857142857\n"
     ]
    },
    {
     "name": "stderr",
     "output_type": "stream",
     "text": [
      "100%|██████████| 19/19 [00:12<00:00,  1.57it/s]\n"
     ]
    },
    {
     "name": "stdout",
     "output_type": "stream",
     "text": [
      "Epoch 3 training loss:  0.28638769058804764\n"
     ]
    },
    {
     "name": "stderr",
     "output_type": "stream",
     "text": [
      "100%|██████████| 7/7 [00:01<00:00,  6.37it/s]\n"
     ]
    },
    {
     "name": "stdout",
     "output_type": "stream",
     "text": [
      "Validation loss:  0.5737584419548512\n",
      "Validation acc:  0.6428571428571429\n",
      "Best valid accuracy: 0.6607142857142857\n"
     ]
    },
    {
     "name": "stderr",
     "output_type": "stream",
     "text": [
      "100%|██████████| 19/19 [00:11<00:00,  1.72it/s]\n"
     ]
    },
    {
     "name": "stdout",
     "output_type": "stream",
     "text": [
      "Epoch 4 training loss:  0.1837856310762857\n"
     ]
    },
    {
     "name": "stderr",
     "output_type": "stream",
     "text": [
      "100%|██████████| 7/7 [00:01<00:00,  6.85it/s]\n"
     ]
    },
    {
     "name": "stdout",
     "output_type": "stream",
     "text": [
      "Validation loss:  0.6643978623407227\n",
      "Validation acc:  0.7321428571428571\n",
      "Saved checkpoint to model_ckpt\\model0.tar\n",
      "Best valid accuracy: 0.7321428571428571\n"
     ]
    },
    {
     "name": "stderr",
     "output_type": "stream",
     "text": [
      "100%|██████████| 19/19 [00:10<00:00,  1.75it/s]\n"
     ]
    },
    {
     "name": "stdout",
     "output_type": "stream",
     "text": [
      "Epoch 5 training loss:  0.13166805033228898\n"
     ]
    },
    {
     "name": "stderr",
     "output_type": "stream",
     "text": [
      "100%|██████████| 7/7 [00:01<00:00,  6.28it/s]\n"
     ]
    },
    {
     "name": "stdout",
     "output_type": "stream",
     "text": [
      "Validation loss:  0.7163699120283127\n",
      "Validation acc:  0.6964285714285714\n",
      "Best valid accuracy: 0.7321428571428571\n"
     ]
    },
    {
     "name": "stderr",
     "output_type": "stream",
     "text": [
      "100%|██████████| 19/19 [00:11<00:00,  1.71it/s]\n"
     ]
    },
    {
     "name": "stdout",
     "output_type": "stream",
     "text": [
      "Epoch 6 training loss:  0.16116674781139745\n"
     ]
    },
    {
     "name": "stderr",
     "output_type": "stream",
     "text": [
      "100%|██████████| 7/7 [00:01<00:00,  6.68it/s]\n"
     ]
    },
    {
     "name": "stdout",
     "output_type": "stream",
     "text": [
      "Validation loss:  0.441369178039687\n",
      "Validation acc:  0.7678571428571429\n",
      "Saved checkpoint to model_ckpt\\model0.tar\n",
      "Best valid accuracy: 0.7678571428571429\n"
     ]
    },
    {
     "name": "stderr",
     "output_type": "stream",
     "text": [
      "100%|██████████| 19/19 [00:12<00:00,  1.58it/s]\n"
     ]
    },
    {
     "name": "stdout",
     "output_type": "stream",
     "text": [
      "Epoch 7 training loss:  0.06482700351625681\n"
     ]
    },
    {
     "name": "stderr",
     "output_type": "stream",
     "text": [
      "100%|██████████| 7/7 [00:01<00:00,  6.51it/s]\n"
     ]
    },
    {
     "name": "stdout",
     "output_type": "stream",
     "text": [
      "Validation loss:  0.7288734465837479\n",
      "Validation acc:  0.5892857142857143\n",
      "Best valid accuracy: 0.7678571428571429\n"
     ]
    },
    {
     "name": "stderr",
     "output_type": "stream",
     "text": [
      "100%|██████████| 19/19 [00:10<00:00,  1.73it/s]\n"
     ]
    },
    {
     "name": "stdout",
     "output_type": "stream",
     "text": [
      "Epoch 8 training loss:  0.10368854790239741\n"
     ]
    },
    {
     "name": "stderr",
     "output_type": "stream",
     "text": [
      "100%|██████████| 7/7 [00:01<00:00,  6.13it/s]\n"
     ]
    },
    {
     "name": "stdout",
     "output_type": "stream",
     "text": [
      "Validation loss:  0.5721969508699009\n",
      "Validation acc:  0.6964285714285714\n",
      "Best valid accuracy: 0.7678571428571429\n"
     ]
    },
    {
     "name": "stderr",
     "output_type": "stream",
     "text": [
      "100%|██████████| 19/19 [00:10<00:00,  1.76it/s]\n"
     ]
    },
    {
     "name": "stdout",
     "output_type": "stream",
     "text": [
      "Epoch 9 training loss:  0.09104350547453291\n"
     ]
    },
    {
     "name": "stderr",
     "output_type": "stream",
     "text": [
      "100%|██████████| 7/7 [00:01<00:00,  6.01it/s]"
     ]
    },
    {
     "name": "stdout",
     "output_type": "stream",
     "text": [
      "Validation loss:  0.6478647312947682\n",
      "Validation acc:  0.6785714285714286\n",
      "Best valid accuracy: 0.7678571428571429\n"
     ]
    },
    {
     "name": "stderr",
     "output_type": "stream",
     "text": [
      "\n"
     ]
    },
    {
     "data": {
      "image/png": "[encoded data removed]",
      "text/plain": [
       "<Figure size 432x288 with 1 Axes>"
      ]
     },
     "metadata": {
      "needs_background": "light"
     },
     "output_type": "display_data"
    }
   ],
   "source": [
    "losses = train(model, optimizer=optimizer, train_dataloader=train_dataloader, validation_dataloader=validation_dataloader, criterion=criterion, num_epochs=10)\n",
    "\n",
    "plt.plot(losses)\n",
    "plt.show()"
   ]
  },
  {
   "cell_type": "code",
   "execution_count": null,
   "metadata": {},
   "outputs": [],
   "source": []
  },
  {
   "cell_type": "code",
   "execution_count": 14,
   "metadata": {},
   "outputs": [],
   "source": [
    "class ConvNet(nn.Module):\n",
    "    def __init__(self, input_channels, hidden_channels, fc_dim, kernel_size = 5):\n",
    "        super().__init__()\n",
    "\n",
    "        assert type(input_channels) == int\n",
    "        assert type(hidden_channels) == list \n",
    "\n",
    "\n",
    "        # Create a series of Convolutions. \n",
    "        models = []\n",
    "        channels = [input_channels] + hidden_channels\n",
    "        for i in range(len(channels)- 1):\n",
    "            in_channel = channels[i]\n",
    "            out_channel = channels[i + 1]\n",
    "            temp = nn.Sequential(\n",
    "                nn.Conv2d(in_channels=in_channel, out_channels=out_channel, kernel_size=kernel_size), \n",
    "                nn.ReLU(),\n",
    "                nn.MaxPool2d(2, 2)\n",
    "            )\n",
    "            models.append(temp)\n",
    "        \n",
    "        self.convs = nn.ModuleList(models)\n",
    "\n",
    "        self.feed_forward = nn.Sequential(\n",
    "            nn.Linear(fc_dim, 120), \n",
    "            nn.ReLU(),\n",
    "            nn.Linear(120, 84), \n",
    "            nn.ReLU(), \n",
    "            nn.Linear(84, 2)\n",
    "        )\n",
    "\n",
    "    def forward(self, x):\n",
    "        for i in self.convs:\n",
    "            x = i(x)\n",
    "        x = torch.flatten(x, 1) # flatten all dimensions except batch\n",
    "        x = self.feed_forward(x)\n",
    "        return x\n",
    "\n",
    "convnet = ConvNet(input_channels=3, hidden_channels=[6, 16, 32], fc_dim=111392).to(device)\n",
    "\n",
    "# input: (batch, num_channel, W, H)\n",
    "# test_input = train_dataset[0:8].float().to(device)\n",
    "# convnet(test_input)"
   ]
  },
  {
   "cell_type": "code",
   "execution_count": 15,
   "metadata": {},
   "outputs": [
    {
     "name": "stdout",
     "output_type": "stream",
     "text": [
      "0.0001\n"
     ]
    },
    {
     "name": "stderr",
     "output_type": "stream",
     "text": [
      "100%|██████████| 17/17 [00:01<00:00, 13.71it/s]\n"
     ]
    },
    {
     "name": "stdout",
     "output_type": "stream",
     "text": [
      "Epoch 0 training loss:  1.8711786235080046\n"
     ]
    },
    {
     "name": "stderr",
     "output_type": "stream",
     "text": [
      "100%|██████████| 9/9 [00:00<00:00, 29.80it/s]\n"
     ]
    },
    {
     "name": "stdout",
     "output_type": "stream",
     "text": [
      "Validation loss:  0.840811292330424\n",
      "Validation acc:  0.5972222222222222\n",
      "Saved checkpoint to model_ckpt\\model_convnet.tar\n",
      "Best valid accuracy: 0.5972222222222222\n"
     ]
    },
    {
     "name": "stderr",
     "output_type": "stream",
     "text": [
      "100%|██████████| 17/17 [00:00<00:00, 17.43it/s]\n"
     ]
    },
    {
     "name": "stdout",
     "output_type": "stream",
     "text": [
      "Epoch 1 training loss:  0.7268867527737337\n"
     ]
    },
    {
     "name": "stderr",
     "output_type": "stream",
     "text": [
      "100%|██████████| 9/9 [00:00<00:00, 33.25it/s]\n"
     ]
    },
    {
     "name": "stdout",
     "output_type": "stream",
     "text": [
      "Validation loss:  0.709672040409512\n",
      "Validation acc:  0.5972222222222222\n",
      "Best valid accuracy: 0.5972222222222222\n"
     ]
    },
    {
     "name": "stderr",
     "output_type": "stream",
     "text": [
      "100%|██████████| 17/17 [00:00<00:00, 17.74it/s]\n"
     ]
    },
    {
     "name": "stdout",
     "output_type": "stream",
     "text": [
      "Epoch 2 training loss:  0.6327112632639268\n"
     ]
    },
    {
     "name": "stderr",
     "output_type": "stream",
     "text": [
      "100%|██████████| 9/9 [00:00<00:00, 30.16it/s]\n"
     ]
    },
    {
     "name": "stdout",
     "output_type": "stream",
     "text": [
      "Validation loss:  0.6684377127223544\n",
      "Validation acc:  0.5902777777777778\n",
      "Best valid accuracy: 0.5972222222222222\n"
     ]
    },
    {
     "name": "stderr",
     "output_type": "stream",
     "text": [
      "100%|██████████| 17/17 [00:00<00:00, 17.88it/s]\n"
     ]
    },
    {
     "name": "stdout",
     "output_type": "stream",
     "text": [
      "Epoch 3 training loss:  0.5524558074334088\n"
     ]
    },
    {
     "name": "stderr",
     "output_type": "stream",
     "text": [
      "100%|██████████| 9/9 [00:00<00:00, 31.87it/s]\n"
     ]
    },
    {
     "name": "stdout",
     "output_type": "stream",
     "text": [
      "Validation loss:  0.6462530030144585\n",
      "Validation acc:  0.6388888888888888\n"
     ]
    },
    {
     "ename": "RuntimeError",
     "evalue": "File model_ckpt\\model_convnet.tar cannot be opened.",
     "output_type": "error",
     "traceback": [
      "\u001b[1;31m---------------------------------------------------------------------------\u001b[0m",
      "\u001b[1;31mRuntimeError\u001b[0m                              Traceback (most recent call last)",
      "Cell \u001b[1;32mIn [15], line 11\u001b[0m\n\u001b[0;32m      8\u001b[0m criterion \u001b[39m=\u001b[39m nn\u001b[39m.\u001b[39mCrossEntropyLoss()\n\u001b[0;32m      9\u001b[0m optimizer \u001b[39m=\u001b[39m torch\u001b[39m.\u001b[39moptim\u001b[39m.\u001b[39mAdam(model\u001b[39m.\u001b[39mparameters(), lr\u001b[39m=\u001b[39mlr)\n\u001b[1;32m---> 11\u001b[0m losses \u001b[39m=\u001b[39m train(model, optimizer\u001b[39m=\u001b[39;49moptimizer, train_dataloader\u001b[39m=\u001b[39;49mtrain_dataloader, validation_dataloader\u001b[39m=\u001b[39;49mvalidation_dataloader, criterion\u001b[39m=\u001b[39;49mcriterion, num_epochs\u001b[39m=\u001b[39;49mnum_epochs, save_name\u001b[39m=\u001b[39;49m\u001b[39m\"\u001b[39;49m\u001b[39mmodel_convnet\u001b[39;49m\u001b[39m\"\u001b[39;49m)\n\u001b[0;32m     13\u001b[0m plt\u001b[39m.\u001b[39mplot(losses)\n\u001b[0;32m     14\u001b[0m plt\u001b[39m.\u001b[39mshow()\n",
      "Cell \u001b[1;32mIn [10], line 56\u001b[0m, in \u001b[0;36mtrain\u001b[1;34m(model, optimizer, train_dataloader, validation_dataloader, criterion, num_epochs, load_from_save, save_name, save_dir)\u001b[0m\n\u001b[0;32m     49\u001b[0m     best_acc \u001b[39m=\u001b[39m valid_acc\n\u001b[0;32m     50\u001b[0m     state_dict \u001b[39m=\u001b[39m {\n\u001b[0;32m     51\u001b[0m         \u001b[39m'\u001b[39m\u001b[39mmodel_state_dict\u001b[39m\u001b[39m'\u001b[39m: model\u001b[39m.\u001b[39mstate_dict(),\n\u001b[0;32m     52\u001b[0m         \u001b[39m'\u001b[39m\u001b[39moptim_state_dict\u001b[39m\u001b[39m'\u001b[39m: optimizer\u001b[39m.\u001b[39mstate_dict(),\n\u001b[0;32m     53\u001b[0m         \u001b[39m'\u001b[39m\u001b[39mloss\u001b[39m\u001b[39m'\u001b[39m: best_acc\n\u001b[0;32m     54\u001b[0m     }\n\u001b[1;32m---> 56\u001b[0m     torch\u001b[39m.\u001b[39;49msave(state_dict, save_path)\n\u001b[0;32m     57\u001b[0m     \u001b[39mprint\u001b[39m(\u001b[39mf\u001b[39m\u001b[39m\"\u001b[39m\u001b[39mSaved checkpoint to \u001b[39m\u001b[39m{\u001b[39;00msave_path\u001b[39m}\u001b[39;00m\u001b[39m\"\u001b[39m)\n\u001b[0;32m     59\u001b[0m \u001b[39mprint\u001b[39m(\u001b[39mf\u001b[39m\u001b[39m\"\u001b[39m\u001b[39mBest valid accuracy: \u001b[39m\u001b[39m{\u001b[39;00mbest_acc\u001b[39m}\u001b[39;00m\u001b[39m\"\u001b[39m)\n",
      "File \u001b[1;32mc:\\Users\\heroe\\AppData\\Local\\Programs\\Python\\Python39\\lib\\site-packages\\torch\\serialization.py:422\u001b[0m, in \u001b[0;36msave\u001b[1;34m(obj, f, pickle_module, pickle_protocol, _use_new_zipfile_serialization)\u001b[0m\n\u001b[0;32m    419\u001b[0m _check_dill_version(pickle_module)\n\u001b[0;32m    421\u001b[0m \u001b[39mif\u001b[39;00m _use_new_zipfile_serialization:\n\u001b[1;32m--> 422\u001b[0m     \u001b[39mwith\u001b[39;00m _open_zipfile_writer(f) \u001b[39mas\u001b[39;00m opened_zipfile:\n\u001b[0;32m    423\u001b[0m         _save(obj, opened_zipfile, pickle_module, pickle_protocol)\n\u001b[0;32m    424\u001b[0m         \u001b[39mreturn\u001b[39;00m\n",
      "File \u001b[1;32mc:\\Users\\heroe\\AppData\\Local\\Programs\\Python\\Python39\\lib\\site-packages\\torch\\serialization.py:309\u001b[0m, in \u001b[0;36m_open_zipfile_writer\u001b[1;34m(name_or_buffer)\u001b[0m\n\u001b[0;32m    307\u001b[0m \u001b[39melse\u001b[39;00m:\n\u001b[0;32m    308\u001b[0m     container \u001b[39m=\u001b[39m _open_zipfile_writer_buffer\n\u001b[1;32m--> 309\u001b[0m \u001b[39mreturn\u001b[39;00m container(name_or_buffer)\n",
      "File \u001b[1;32mc:\\Users\\heroe\\AppData\\Local\\Programs\\Python\\Python39\\lib\\site-packages\\torch\\serialization.py:287\u001b[0m, in \u001b[0;36m_open_zipfile_writer_file.__init__\u001b[1;34m(self, name)\u001b[0m\n\u001b[0;32m    286\u001b[0m \u001b[39mdef\u001b[39;00m \u001b[39m__init__\u001b[39m(\u001b[39mself\u001b[39m, name) \u001b[39m-\u001b[39m\u001b[39m>\u001b[39m \u001b[39mNone\u001b[39;00m:\n\u001b[1;32m--> 287\u001b[0m     \u001b[39msuper\u001b[39m(_open_zipfile_writer_file, \u001b[39mself\u001b[39m)\u001b[39m.\u001b[39m\u001b[39m__init__\u001b[39m(torch\u001b[39m.\u001b[39;49m_C\u001b[39m.\u001b[39;49mPyTorchFileWriter(\u001b[39mstr\u001b[39;49m(name)))\n",
      "\u001b[1;31mRuntimeError\u001b[0m: File model_ckpt\\model_convnet.tar cannot be opened."
     ]
    }
   ],
   "source": [
    "# Load the model. \n",
    "lr = 1e-4\n",
    "num_epochs = 25\n",
    "model = convnet\n",
    "\n",
    "\n",
    "model = model.to(device)\n",
    "criterion = nn.CrossEntropyLoss()\n",
    "optimizer = torch.optim.Adam(model.parameters(), lr=lr)\n",
    "\n",
    "losses = train(model, optimizer=optimizer, train_dataloader=train_dataloader, validation_dataloader=validation_dataloader, criterion=criterion, num_epochs=num_epochs, save_name=\"model_convnet\")\n",
    "\n",
    "plt.plot(losses)\n",
    "plt.show()"
   ]
  },
  {
   "cell_type": "code",
   "execution_count": 23,
   "metadata": {},
   "outputs": [
    {
     "data": {
      "text/plain": [
       "torch.Size([3, 3, 500, 500])"
      ]
     },
     "execution_count": 23,
     "metadata": {},
     "output_type": "execute_result"
    }
   ],
   "source": [
    "train_dataset[0 : 3].shape"
   ]
  },
  {
   "cell_type": "code",
   "execution_count": 19,
   "metadata": {},
   "outputs": [
    {
     "data": {
      "text/plain": [
       "211"
      ]
     },
     "execution_count": 19,
     "metadata": {},
     "output_type": "execute_result"
    }
   ],
   "source": [
    "np.array(image.convert('RGB'))[0, 0, 0]"
   ]
  },
  {
   "cell_type": "code",
   "execution_count": 26,
   "metadata": {},
   "outputs": [
    {
     "data": {
      "text/plain": [
       "ConvNet(\n",
       "  (convs): ModuleList(\n",
       "    (0): Sequential(\n",
       "      (0): Conv2d(3, 6, kernel_size=(5, 5), stride=(1, 1))\n",
       "      (1): ReLU()\n",
       "      (2): MaxPool2d(kernel_size=2, stride=2, padding=0, dilation=1, ceil_mode=False)\n",
       "    )\n",
       "    (1): Sequential(\n",
       "      (0): Conv2d(6, 16, kernel_size=(5, 5), stride=(1, 1))\n",
       "      (1): ReLU()\n",
       "      (2): MaxPool2d(kernel_size=2, stride=2, padding=0, dilation=1, ceil_mode=False)\n",
       "    )\n",
       "  )\n",
       "  (feed_forward): Sequential(\n",
       "    (0): Linear(in_features=400, out_features=120, bias=True)\n",
       "    (1): ReLU()\n",
       "    (2): Linear(in_features=120, out_features=84, bias=True)\n",
       "    (3): ReLU()\n",
       "    (4): Linear(in_features=84, out_features=10, bias=True)\n",
       "  )\n",
       ")"
      ]
     },
     "execution_count": 26,
     "metadata": {},
     "output_type": "execute_result"
    }
   ],
   "source": [
    "convnet"
   ]
  }
 ],
 "metadata": {
  "kernelspec": {
   "display_name": "Python 3.9.13 64-bit",
   "language": "python",
   "name": "python3"
  },
  "language_info": {
   "codemirror_mode": {
    "name": "ipython",
    "version": 3
   },
   "file_extension": ".py",
   "mimetype": "text/x-python",
   "name": "python",
   "nbconvert_exporter": "python",
   "pygments_lexer": "ipython3",
   "version": "3.9.13"
  },
  "orig_nbformat": 4,
  "vscode": {
   "interpreter": {
    "hash": "17b4bcc3c125980c63d37255885820aa0ebfab1ed8ff5394e2ad8a6b6ea65d4f"
   }
  }
 },
 "nbformat": 4,
 "nbformat_minor": 2
}
